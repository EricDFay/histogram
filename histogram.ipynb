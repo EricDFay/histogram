{
 "cells": [
  {
   "cell_type": "code",
   "execution_count": 8,
   "metadata": {},
   "outputs": [],
   "source": [
    "import matplotlib.pyplot as plt\n",
    "import numpy as np\n",
    "import cv2"
   ]
  },
  {
   "cell_type": "code",
   "execution_count": 11,
   "metadata": {},
   "outputs": [],
   "source": [
    "def make_histogram(numbers):\n",
    "    histogram = {}\n",
    "    for x in numbers:\n",
    "        if x in histogram:\n",
    "            histogram[x] += 1\n",
    "        else:\n",
    "            histogram[x] = 1\n",
    "    return histogram"
   ]
  },
  {
   "cell_type": "code",
   "execution_count": 20,
   "metadata": {},
   "outputs": [
    {
     "data": {
      "text/plain": [
       "{1: 5, 13: 2, 33: 2, 12: 2}"
      ]
     },
     "execution_count": 20,
     "metadata": {},
     "output_type": "execute_result"
    }
   ],
   "source": [
    "histogram = make_histogram([1,1,1,1,1,13,33,12,12,13,33])\n",
    "histogram"
   ]
  },
  {
   "cell_type": "code",
   "execution_count": 25,
   "metadata": {},
   "outputs": [],
   "source": [
    "def draw_histogram(histogram, bgcolor=(0,43,54), fgcolor=(181,137,0)):\n",
    "    x_min = min(list(histogram))\n",
    "    x_max = max(list(histogram))\n",
    "    count_max = max(histogram.values())\n",
    "    window_width = x_max+1\n",
    "    window_height = count_max\n",
    "    img = np.zeros((window_height, window_width,3), np.uint8)\n",
    "    img = cv2.rectangle(img, (0,0), (window_width, window_height), bgcolor, -1)\n",
    "    \n",
    "    for x in sorted(histogram):\n",
    "        img = cv2.rectangle(img, (x,0), (x + 1, histogram[x]), fgcolor, -1)\n",
    "    \n",
    "    plt.imshow(img)\n",
    "    plt.show()"
   ]
  },
  {
   "cell_type": "code",
   "execution_count": 26,
   "metadata": {},
   "outputs": [
    {
     "data": {
      "image/png": "[encoded data removed]",
      "text/plain": [
       "<Figure size 432x288 with 1 Axes>"
      ]
     },
     "metadata": {
      "needs_background": "light"
     },
     "output_type": "display_data"
    }
   ],
   "source": [
    "draw_histogram(histogram)"
   ]
  },
  {
   "cell_type": "code",
   "execution_count": 29,
   "metadata": {},
   "outputs": [
    {
     "data": {
      "image/png": "[encoded data removed]",
      "text/plain": [
       "<Figure size 432x288 with 1 Axes>"
      ]
     },
     "metadata": {
      "needs_background": "light"
     },
     "output_type": "display_data"
    }
   ],
   "source": [
    "from random import uniform\n",
    "data = [int(uniform(0,128)) for i in range(100)]\n",
    "histogram = make_histogram(data)\n",
    "draw_histogram(histogram)"
   ]
  },
  {
   "cell_type": "code",
   "execution_count": null,
   "metadata": {},
   "outputs": [],
   "source": []
  }
 ],
 "metadata": {
  "kernelspec": {
   "display_name": "Python 3",
   "language": "python",
   "name": "python3"
  },
  "language_info": {
   "codemirror_mode": {
    "name": "ipython",
    "version": 3
   },
   "file_extension": ".py",
   "mimetype": "text/x-python",
   "name": "python",
   "nbconvert_exporter": "python",
   "pygments_lexer": "ipython3",
   "version": "3.8.1"
  }
 },
 "nbformat": 4,
 "nbformat_minor": 2
}
